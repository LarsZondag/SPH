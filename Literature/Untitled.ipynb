{
 "cells": [
  {
   "cell_type": "markdown",
   "metadata": {},
   "source": [
    "# A Smoothed Particle Hydrodynamics:\n",
    "Basics and Applications"
   ]
  },
  {
   "cell_type": "markdown",
   "metadata": {},
   "source": [
    "Computational fluid dynamics is a hot topic in Computer Graphics. The capability to reproduce realistic fluids numerically has gained an increased interest the last decade. Grid-based methods have been favored the most to solve the mathematical equations for fluid flow, but often they lack the ability to create interactive fluid simulations together with detailed fluid surfaces. Interactive fluid dynamics is of essential interest in real-time applications, such as computer games or virtual surgery simulators. Using the smoothed particle hydrodynamics (SPH) method, it is posible to implement a stable particle-based approach to solve the motion of interactive fluids.\n",
    "\n",
    "Consider a field (for instance the density) generally we denote such a field by $A(r)$. SPH interpolation of a quantity $A(r)$, which is a function of the spatial coordinates, is based on the integral interpolant \n",
    "$$\n",
    "A_{I}(\\mathbf{r})=\\int A(\\mathbf{r})W(\\mathbf{r}-\\mathbf{r}^{\\prime},h)d \\mathbf{r^{\\prime}}\n",
    "$$\n",
    "\n",
    "where the function $W$ is the kernel and $d\\mathbf{r}^{\\prime}$ is a differential volume element . The interpolant $A_I$ reproduces $A$ exactly if the kernel is a delta function.\n",
    "$$\n",
    "A_{I}(\\mathbf{r})=\\int A(\\mathbf{r})\\delta(\\mathbf{r}-\\mathbf{r}^{\\prime})d \\mathbf{r^{\\prime}}\n",
    "$$\n",
    "In practice, the kernels are functions which tend to the delta function as the length scale $h$ tends to zero. They are normalized to 1 so that the constants are interpolated exactly.\n",
    "\n",
    "To apply this interpolation to a fluid, lets divide the volume of the fluid $V$ into a set of small sub-volumes $V_j$. Each volume $V_j$ is represented by a \"pseudo-particle\" $j$. Now we approximate the integral interpolant $A_{I}$ by a sum interpolant $A_S$\n",
    "$$\n",
    "A_S(\\mathbf{r})=\\sum_{j}A_{j}W(\\mathbf{r}-\\mathbf{r}_j,h)V_j\n",
    "$$\n",
    "where the summation is over all the particles but, in practice, it is only over near neighbours because W falls off rapidly with distance. $A_j$ is the value of the field at $\\mathbf{r}_j$\n",
    "\n",
    "We assign a mass $m_{j}=\\rho_{j}*V_{j}$ to each pseudo-particle\n",
    "$$\n",
    "A_{S}(\\mathbf{r})=\\sum_{j}A_{j}W(\\mathbf{r}-\\mathbf{r}_j,h)\\frac{m_j}{\\rho_j}\n",
    "$$\n",
    "\n",
    "As an example of the use of kernel estimation, suppose $A$ is thedensity $\\rho$. The interpolation formula then gives the following estimate for the density at a point $\\mathbf{r}$\n",
    "$$\n",
    "\\rho(r)=\\sum_{j}m_jW(\\mathbf{r}-\\mathbf{r}_j,h)\n",
    "$$\n",
    "\n",
    "which shows how the mass of a set of particles is smoothed to produce the estimated density.\n",
    "\n",
    "The SPH formulation allows derivatives to be estimated easily. As W is a differentiable function then\n",
    "$$\n",
    "\\frac{\\partial{A_S(\\mathbf{r})}}{\\partial{\\mathbf{r}}}=\\frac{\\partial}{\\partial{\\mathbf{r}}}\\left(\n",
    "\\sum_{j}A_{j}W(\\mathbf{r}-\\mathbf{r}_j,h)\\frac{m_j}{\\rho_j}\n",
    "\\right)\n",
    "$$\n",
    "as $A_j,m_j,\\rho_j$ are independent of $\\mathbf{r}$\n",
    "$$\n",
    "\\frac{\\partial{A_S(\\mathbf{r})}}{\\partial{\\mathbf{r}}}=\n",
    "\\sum_{j}A_{j}\\frac{m_j}{\\rho_j}\\frac{\\partial}{\\partial{\\mathbf{r}}}W(\\mathbf{r}-\\mathbf{r}_j,h),\n",
    "$$\n",
    "$$\n",
    "\\nabla A_S(\\mathbf{r})=\n",
    "\\sum_{j}A_{j}\\frac{m_j}{\\rho_j}\\nabla W(\\mathbf{r}-\\mathbf{r}_j,h)\n",
    "$$"
   ]
  },
  {
   "cell_type": "markdown",
   "metadata": {},
   "source": [
    "# The SPH evolution equations"
   ]
  },
  {
   "cell_type": "markdown",
   "metadata": {},
   "source": [
    "Let's see the continuity equation, sometimes called the convergence equation \n",
    "$$\n",
    "\\frac{d\\rho}{dt}=\\frac{\\partial{\\rho}}{\\partial{t}}+\\frac{\\partial{r}}{\\partial{t}}\\frac{\\partial{\\rho}}{\\partial{r}}\n",
    "$$\n",
    "$$\n",
    "\\frac{d\\rho}{dt}=-\\nabla\\cdot(\\rho \\mathbf{v})+\\mathbf{v}\\cdot\\nabla(\\rho)\n",
    "$$\n",
    "$$\n",
    "\\frac{d\\rho}{dt}=-\\rho\\nabla\\cdot\\mathbf{v}\n",
    "$$"
   ]
  },
  {
   "cell_type": "markdown",
   "metadata": {},
   "source": [
    "Using the SPH interpolation, this equation can be written using the next expressions\n",
    "$$\n",
    "\\nabla\\cdot(\\rho \\mathbf{v})\\simeq\\sum_j \\frac{m_j}{\\rho_j}\\rho_j\\mathbf{v}_j\\nabla W(\\mathbf{r}-\\mathbf{r}_j,h)\n",
    "$$"
   ]
  },
  {
   "cell_type": "markdown",
   "metadata": {},
   "source": [
    "$$\n",
    "\\mathbf{v}\\cdot\\nabla\\rho\\simeq\\mathbf{v}\\cdot\\sum_j m_j\\nabla W(\\mathbf{r}-\\mathbf{r}_j,h)\n",
    "$$"
   ]
  },
  {
   "cell_type": "markdown",
   "metadata": {},
   "source": [
    "taking into account these two terms\n",
    "$$\n",
    "\\frac{d\\rho_i}{dt}=\\sum_j m_j (\\mathbf{v}_i-\\mathbf{v}_j)\\nabla_i W(\\mathbf{r}_i-\\mathbf{r}_j,h)\n",
    "$$"
   ]
  },
  {
   "cell_type": "markdown",
   "metadata": {},
   "source": [
    "To write the acceleration equation in a form which conserves linear and angular momentum, it is posible to use the next ralation between the pressure and the density\n",
    "$$\n",
    "\\frac{\\nabla\\mathbf{P}}{\\rho}=\n",
    "\\nabla\\left(\\frac{\\mathbf{P}}{\\rho}\\right)+\\frac{\\mathbf{P}}{\\rho^2}\\nabla\\rho\n",
    "$$\n",
    "then using the SPH interpolation we get\n",
    "$$\n",
    "\\frac{d\\mathbf{v}_i}{dt}=-\\sum_j m_j\\left(\\frac{\\mathbf{P}_i}{\\rho_i^2}+\\frac{\\mathbf{P}_j}{\\rho_j^2}\\right)\\nabla_i W(\\mathbf{r}_i-\\mathbf{r}_j,h)\n",
    "$$"
   ]
  },
  {
   "cell_type": "markdown",
   "metadata": {},
   "source": [
    "To define the pressure on every particle we use the equation of state\n",
    "$$\n",
    "P=\\frac{\\rho_0 c^2}{\\gamma}\\left(\\left(\\frac{\\rho}{rho_0}\\right)^\\gamma-1 \\right)\n",
    "$$"
   ]
  },
  {
   "cell_type": "markdown",
   "metadata": {},
   "source": [
    "These equations can be integrated using an algorithm as verlet."
   ]
  },
  {
   "cell_type": "code",
   "execution_count": null,
   "metadata": {
    "collapsed": true
   },
   "outputs": [],
   "source": []
  }
 ],
 "metadata": {
  "kernelspec": {
   "display_name": "Python 3",
   "language": "python",
   "name": "python3"
  },
  "language_info": {
   "codemirror_mode": {
    "name": "ipython",
    "version": 3
   },
   "file_extension": ".py",
   "mimetype": "text/x-python",
   "name": "python",
   "nbconvert_exporter": "python",
   "pygments_lexer": "ipython3",
   "version": "3.5.0"
  }
 },
 "nbformat": 4,
 "nbformat_minor": 0
}
